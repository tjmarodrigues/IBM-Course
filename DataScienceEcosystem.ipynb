{
 "cells": [
  {
   "cell_type": "markdown",
   "id": "2ebe3e99-b682-48ba-b591-641fdf5de571",
   "metadata": {
    "tags": []
   },
   "source": [
    "# Data Science Tools and Ecosystem "
   ]
  },
  {
   "cell_type": "markdown",
   "id": "a1a93800-e20c-40b2-98d1-62b401848607",
   "metadata": {
    "tags": []
   },
   "source": [
    "## In this notebook, Data Science Tools and Ecosystem are summarized."
   ]
  },
  {
   "cell_type": "markdown",
   "id": "19e47b0a-ae6b-4440-a5e0-7548937e8615",
   "metadata": {
    "tags": []
   },
   "source": [
    "### **Objectives:**\n",
    "    - List popular languages for Data Science\n",
    "    - List commonly used libraries used by Data Scientist\n",
    "    - Create a markdown cell with a table of Data Science tools\n",
    "    - List examples of evaluating arithmetic expressions in Python\n",
    "    - Learn Simple arithmetic expression to mutiply then add integers"
   ]
  },
  {
   "cell_type": "markdown",
   "id": "50609264-c4cf-4ae5-82f8-0b84fd95147b",
   "metadata": {},
   "source": [
    "### Some of the popular languages that Data Scientists use are:\n",
    "      1. Python\n",
    "      2. R\n",
    "      3. SQL\n",
    "      4. Julia"
   ]
  },
  {
   "cell_type": "markdown",
   "id": "17d025b2-1d88-4714-81f0-c8b1146d5c5f",
   "metadata": {},
   "source": [
    "### Some of the commonly used libraries used by Data Scientists include:\n",
    "      1.TensorFlow\n",
    "      2.NumPy\n",
    "      3.SciPy\n",
    "      4. Pandas\n",
    "      5. Matplotlib"
   ]
  },
  {
   "cell_type": "markdown",
   "id": "3de432b6-303d-4f6b-a959-87a010824641",
   "metadata": {},
   "source": [
    "| Data Science Tools | \n",
    "| --------- |\n",
    "| RStudio |\n",
    "| Apache Spark |\n",
    "| TensorFlow |\n",
    "| Apache Hadoop |\n",
    "| RapidMiner |"
   ]
  },
  {
   "cell_type": "markdown",
   "id": "513449f6-d0ce-4683-862d-e1f562a3aa8d",
   "metadata": {},
   "source": [
    "### Below are a few examples of evaluating arithmetic expressions in Python"
   ]
  },
  {
   "cell_type": "markdown",
   "id": "c2fc2cd5-a1f1-4c06-8f9e-198af033b8cb",
   "metadata": {
    "tags": []
   },
   "source": [
    "#### This a simple arithmetic expression to mutiply then add integers"
   ]
  },
  {
   "cell_type": "code",
   "execution_count": 8,
   "id": "379c0668-83d4-4809-b997-d321576869a0",
   "metadata": {
    "tags": []
   },
   "outputs": [
    {
     "data": {
      "text/plain": [
       "17"
      ]
     },
     "execution_count": 8,
     "metadata": {},
     "output_type": "execute_result"
    }
   ],
   "source": [
    "(3*4)+5"
   ]
  },
  {
   "cell_type": "markdown",
   "id": "2bc8faec-f6ad-4f0d-831c-625993758c74",
   "metadata": {},
   "source": [
    "### This will convert 200 minutes to hours by diving by 60\n"
   ]
  },
  {
   "cell_type": "code",
   "execution_count": 9,
   "id": "62c3a28e-4035-4f53-a451-ed53be95fcb4",
   "metadata": {
    "tags": []
   },
   "outputs": [
    {
     "data": {
      "text/plain": [
       "3.3333333333333335"
      ]
     },
     "execution_count": 9,
     "metadata": {},
     "output_type": "execute_result"
    }
   ],
   "source": [
    "200/60"
   ]
  },
  {
   "cell_type": "markdown",
   "id": "e1401863-7275-410f-b302-4d1284a67e85",
   "metadata": {},
   "source": [
    "## Author\n",
    "\n",
    "Tiago Rodrigues"
   ]
  },
  {
   "cell_type": "code",
   "execution_count": null,
   "id": "80433b1b-4e76-4298-932f-c2965e5f6bf3",
   "metadata": {},
   "outputs": [],
   "source": []
  }
 ],
 "metadata": {
  "kernelspec": {
   "display_name": "Python",
   "language": "python",
   "name": "conda-env-python-py"
  },
  "language_info": {
   "codemirror_mode": {
    "name": "ipython",
    "version": 3
   },
   "file_extension": ".py",
   "mimetype": "text/x-python",
   "name": "python",
   "nbconvert_exporter": "python",
   "pygments_lexer": "ipython3",
   "version": "3.7.12"
  }
 },
 "nbformat": 4,
 "nbformat_minor": 5
}
